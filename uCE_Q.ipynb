{
 "cells": [
  {
   "cell_type": "code",
   "execution_count": 1,
   "metadata": {},
   "outputs": [],
   "source": [
    "import numpy as np\n",
    "import pandas as pd\n",
    "import matplotlib.pyplot as plt\n",
    "import gym\n",
    "import torch\n",
    "import random\n",
    "\n",
    "from collections import namedtuple\n",
    "from itertools import count\n",
    "from PIL import Image\n",
    "\n",
    "import torch\n",
    "import torch.nn as nn\n",
    "import torch.optim as optim\n",
    "import torch.nn.functional as F\n",
    "import torchvision.transforms as T\n",
    "from torch.utils.data import TensorDataset\n",
    "import copy\n",
    "import gym_minigrid\n",
    "from soccer_env import soccer\n",
    "import cvxpy as cp"
   ]
  },
  {
   "cell_type": "markdown",
   "metadata": {},
   "source": [
    "# ce_q learning"
   ]
  },
  {
   "cell_type": "code",
   "execution_count": 61,
   "metadata": {},
   "outputs": [],
   "source": [
    "def get_v(q_a,q_b,a_loc,b_loc,has_ball,done,verbose):\n",
    "    #establish the matrix similar to hw6 input reward matrix for all players, which will be 5*5\n",
    "    if done: \n",
    "        v_a = 0\n",
    "        v_b = 0\n",
    "        return v_a,v_b\n",
    "    else:\n",
    "        r_a = q_a[a_loc,b_loc,has_ball]\n",
    "        r_b = q_b[a_loc,b_loc,has_ball].T\n",
    "        constraints = []\n",
    "        #print(r)\n",
    "        # row player is A column player is B\n",
    "        pa = cp.Variable((5,5)) \n",
    "        constraints = []\n",
    "        #constraints regarding equilibrium\n",
    "        for a in range(5):\n",
    "            q_diff = np.empty([5,0])\n",
    "            for i in range(5):\n",
    "                if (a!=i):\n",
    "                    q_diff = np.append(q_diff,np.array([r_a[a,:]-r_a[i,:]]).T,axis = 1)\n",
    "                #print(q_diff)\n",
    "            lhs = pa[a,:]@q_diff\n",
    "            #print(lhs)\n",
    "            constraints = constraints + [lhs>=0]\n",
    "        pb = pa.T\n",
    "        for b in range(5):\n",
    "            q_diff = np.empty([5,0])\n",
    "            for i in range(5):\n",
    "                if (b!=i):\n",
    "                    q_diff = np.append(q_diff,np.array([r_b[b,:]-r_b[i,:]]).T,axis = 1)\n",
    "                #print(q_diff)\n",
    "            lhs = pb[b,:]@q_diff\n",
    "            #print(lhs)\n",
    "            constraints = constraints + [lhs>=0]\n",
    "        #constraints around pa itself\n",
    "        #np.full([5,5],0.000000000000001)\n",
    "        constraints = constraints + [pa >= 0]\n",
    "        constraints = constraints + [cp.sum(pa) == 1]\n",
    "        #constraints: CEQ has 5*4*2 + 25 + 1 constraints and one objective. maximize(p*(q1 + q2))\n",
    "        # utilitarian ce q objective: maximize combined expected values\n",
    "        objective = cp.Maximize(cp.sum(cp.multiply(pa,r_a)+cp.multiply(pb,r_b)))\n",
    "        problem = cp.Problem(objective,constraints)\n",
    "        #solver='ECOS_BB'\n",
    "        result = problem.solve()\n",
    "        p = pa.value\n",
    "        p[p<= 1e-5] = 0\n",
    "        #normalise p\n",
    "        p = p/np.sum(p)\n",
    "        #print('p',p)\n",
    "        v_a =  np.sum(np.multiply(p,r_a))\n",
    "        v_b = np.sum(np.multiply(p.T,r_b)) \n",
    "        if(verbose):\n",
    "            print('p is:',p)\n",
    "            print('r_a is:',r_a)\n",
    "            print('v_a is:',v_a)\n",
    "        #print('v_a',v_a)\n",
    "        return v_a, v_b"
   ]
  },
  {
   "cell_type": "code",
   "execution_count": null,
   "metadata": {},
   "outputs": [],
   "source": [
    "env = soccer()\n",
    "env.reset()\n",
    "n_steps = 1000000\n",
    "step = 0\n",
    "epsilon = 1\n",
    "gamma = 0.9\n",
    "q_a = np.zeros((8,8,2,len(env.action_space()),len(env.action_space())))\n",
    "q_b = np.zeros((8,8,2,len(env.action_space()),len(env.action_space())))\n",
    "errors = np.empty(shape=[0, 2])\n",
    "alpha = 1\n",
    "alpha_decay_rate = 0.999993\n",
    "#epsilon_decay_rate = 0.999995\n",
    "done = False\n",
    "a_loc,b_loc,has_ball = env.reset()\n",
    "for _ in range(n_steps):\n",
    "    step+=1\n",
    "    if(step%1000 == 0):print('step:', step)\n",
    "    #loop for each step of step\n",
    "    if(done): \n",
    "        a_loc,b_loc,has_ball = env.reset()\n",
    "        #print('finishing one episode')\n",
    "        done = False\n",
    "    #Choose actions from S randomly \n",
    "    a_a = env.sample_action()\n",
    "    a_b = env.sample_action()\n",
    "    a_loc_next, b_loc_next,has_ball_next,a_reward,b_reward,done = env.step(a_a,a_b)\n",
    "    #print(a_loc_next, b_loc_next,has_ball_next,a_reward,b_reward,done)\n",
    "    #solve for minimax based on current states and get v\n",
    "    if a_loc == 2 and b_loc == 1 and has_ball == 1 and a_a == 1 and a_b == 4:\n",
    "        verbose = False\n",
    "    else: verbose = False\n",
    "    v_a,v_b = get_v(q_a,q_b,a_loc_next,b_loc_next,has_ball_next,done,verbose = verbose)\n",
    "    #print('v value is:',v)\n",
    "    #update q value\n",
    "    q_update_a = alpha*((1-gamma)*(a_reward)+gamma*v_a)\n",
    "    new_q_a = (1-alpha)*q_a[a_loc,b_loc,has_ball,a_a,a_b]+q_update_a\n",
    "    #print('v_a',v_a)\n",
    "    #print('new_q_a:',new_q_a)\n",
    "    q_update_b = alpha*((1-gamma)*(b_reward)+gamma*v_b)\n",
    "    new_q_b = (1-alpha)*q_b[a_loc,b_loc,has_ball,a_a,a_b]+q_update_b\n",
    "##### debugging prints\n",
    "#     print('q_update_a:',q_update_a)\n",
    "#     print('new_q_a:',new_q_a)\n",
    "#     print('old_q_a:',q_a[a_loc,b_loc,has_ball,a_a,a_b])\n",
    "    #document error when in state s and A taking action S and b sticking\n",
    "    if a_loc == 2 and b_loc == 1 and has_ball == 1 and a_a == 1 and a_b == 4: \n",
    "#         print('v_a',v_a)\n",
    "#         print('q_update_a:',q_update_a)\n",
    "#         print('new_q_a:',new_q_a)\n",
    "#         print('old_q_a:',q_a[2,1,1,1,4])\n",
    "        error = abs(new_q_a-q_a[2,1,1,1,4])\n",
    "        errors = np.append(errors,np.array([[step-1,error]]),axis=0)\n",
    "        print(errors)\n",
    "    q_a[a_loc,b_loc,has_ball,a_a,a_b] = new_q_a\n",
    "    q_b[a_loc,b_loc,has_ball,a_a,a_b] = new_q_b\n",
    "    #update states\n",
    "    a_loc = a_loc_next\n",
    "    b_loc = b_loc_next\n",
    "    has_ball = has_ball_next\n",
    "    alpha = alpha*alpha_decay_rate"
   ]
  },
  {
   "cell_type": "code",
   "execution_count": 65,
   "metadata": {
    "scrolled": true
   },
   "outputs": [
    {
     "data": {
      "image/png": "[encoded data removed]",
      "text/plain": [
       "<Figure size 432x288 with 1 Axes>"
      ]
     },
     "metadata": {
      "needs_background": "light"
     },
     "output_type": "display_data"
    }
   ],
   "source": [
    "#plot the errors\n",
    "plt.plot(errors[:,0],errors[:,1])\n",
    "plt.ylabel('error')\n",
    "plt.xlabel('ith epsiode')\n",
    "plt.ylim(0,0.5)\n",
    "plt.show()"
   ]
  }
 ],
 "metadata": {
  "kernelspec": {
   "display_name": "Python 3",
   "language": "python",
   "name": "python3"
  },
  "language_info": {
   "codemirror_mode": {
    "name": "ipython",
    "version": 3
   },
   "file_extension": ".py",
   "mimetype": "text/x-python",
   "name": "python",
   "nbconvert_exporter": "python",
   "pygments_lexer": "ipython3",
   "version": "3.8.5"
  },
  "toc": {
   "base_numbering": 1,
   "nav_menu": {},
   "number_sections": true,
   "sideBar": true,
   "skip_h1_title": false,
   "title_cell": "Table of Contents",
   "title_sidebar": "Contents",
   "toc_cell": false,
   "toc_position": {},
   "toc_section_display": true,
   "toc_window_display": false
  }
 },
 "nbformat": 4,
 "nbformat_minor": 4
}
