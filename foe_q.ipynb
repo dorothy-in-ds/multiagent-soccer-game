{
 "cells": [
  {
   "cell_type": "code",
   "execution_count": 27,
   "metadata": {},
   "outputs": [],
   "source": [
    "import numpy as np\n",
    "import pandas as pd\n",
    "import matplotlib.pyplot as plt\n",
    "import gym\n",
    "import torch\n",
    "import random\n",
    "\n",
    "from collections import namedtuple\n",
    "from itertools import count\n",
    "from PIL import Image\n",
    "\n",
    "import torch\n",
    "import torch.nn as nn\n",
    "import torch.optim as optim\n",
    "import torch.nn.functional as F\n",
    "import torchvision.transforms as T\n",
    "from torch.utils.data import TensorDataset\n",
    "import copy\n",
    "import gym_minigrid\n",
    "from soccer_env import soccer\n",
    "import cvxpy as cp"
   ]
  },
  {
   "cell_type": "markdown",
   "metadata": {},
   "source": [
    "# foe_q learning"
   ]
  },
  {
   "cell_type": "code",
   "execution_count": 28,
   "metadata": {},
   "outputs": [],
   "source": [
    "def get_v(q,a_loc,b_loc,has_ball,done):\n",
    "    #establish the matrix similar to hw6 input reward matrix for all players, which will be 5*5\n",
    "    if done: \n",
    "        return 0\n",
    "    else:\n",
    "        r = q[a_loc,b_loc,has_ball].T\n",
    "        #print(r)\n",
    "        v = cp.Variable()\n",
    "        p0 = cp.Variable()\n",
    "        p1 = cp.Variable()\n",
    "        p2 = cp.Variable()\n",
    "        p3 = cp.Variable()\n",
    "        p4 = cp.Variable()\n",
    "        objective = cp.Maximize(v)\n",
    "        constraints = [p0*r[0,0]+p1*r[0,1]+p2*r[0,2]+p3*r[0,3]+p4*r[0,4]>=v,\n",
    "        p0*r[1,0]+p1*r[1,1]+p2*r[1,2]+p3*r[1,3]+p4*r[1,4]>=v,\n",
    "        p0*r[2,0]+p1*r[2,1]+p2*r[2,2]+p3*r[2,3]+p4*r[2,4]>=v,\n",
    "        p0*r[3,0]+p1*r[3,1]+p2*r[3,2]+p3*r[3,3]+p4*r[3,4]>=v,\n",
    "        p0*r[4,0]+p1*r[4,1]+p2*r[4,2]+p3*r[4,3]+p4*r[4,4]>=v,\n",
    "        p0-0.000000000000001>=0,\n",
    "        p1-0.000000000000001>=0,\n",
    "        p2-0.000000000000001>=0,\n",
    "        p3-0.000000000000001>=0,\n",
    "        p4-0.000000000000001>=0,\n",
    "        p0+p1+p2+p3+p4==1]\n",
    "        problem = cp.Problem(objective,constraints)\n",
    "        result = problem.solve()\n",
    "        #print('result:',result)\n",
    "        return v.value.item()    "
   ]
  },
  {
   "cell_type": "code",
   "execution_count": null,
   "metadata": {},
   "outputs": [],
   "source": [
    "env = soccer()\n",
    "env.reset()\n",
    "n_steps = 1000000\n",
    "step = 0\n",
    "epsilon = 1\n",
    "gamma = 0.9\n",
    "q = np.zeros((8,8,2,len(env.action_space()),len(env.action_space())))\n",
    "errors = np.empty(shape=[0, 2])\n",
    "alpha = 1\n",
    "alpha_decay_rate = 0.999993\n",
    "#epsilon_decay_rate = 0.999995\n",
    "done = False\n",
    "a_loc,b_loc,has_ball = env.reset()\n",
    "for _ in range(n_steps):\n",
    "    step+=1\n",
    "    if(step%1000 == 0):print('step:', step)\n",
    "    #loop for each step of step\n",
    "    if(done): \n",
    "        a_loc,b_loc,has_ball = env.reset()\n",
    "        done = False\n",
    "    #Choose actions from S randomly \n",
    "    a_a = env.sample_action()\n",
    "    a_b = env.sample_action()\n",
    "    a_loc_next, b_loc_next,has_ball_next,a_reward,b_reward,done = env.step(a_a,a_b)\n",
    "    #solve for minimax based on current states and get v\n",
    "    v = get_v(q,a_loc_next,b_loc_next,has_ball_next,done)\n",
    "    #print('v value is:',v)\n",
    "    #update q value\n",
    "    q_update = alpha*((1-gamma)*(a_reward)+gamma*v)\n",
    "    new_q = (1-alpha)*q[a_loc,b_loc,has_ball,a_a,a_b]+q_update\n",
    "    #document error when in state s and A taking action S and b sticking\n",
    "    if a_loc == 2 and b_loc == 1 and has_ball == 1 and a_a == 1 and a_b == 4: \n",
    "        error = abs(new_q-q[2,1,1,1,4])\n",
    "        errors = np.append(errors,np.array([[step-1,error]]),axis=0)\n",
    "        print(errors)\n",
    "    q[a_loc,b_loc,has_ball,a_a] = new_q\n",
    "    #update states\n",
    "    a_loc = a_loc_next\n",
    "    b_loc = b_loc_next\n",
    "    has_ball = has_ball_next\n",
    "    alpha = alpha*alpha_decay_rate"
   ]
  },
  {
   "cell_type": "code",
   "execution_count": 33,
   "metadata": {
    "scrolled": true
   },
   "outputs": [
    {
     "data": {
      "image/png": "[encoded data removed]",
      "text/plain": [
       "<Figure size 432x288 with 1 Axes>"
      ]
     },
     "metadata": {
      "needs_background": "light"
     },
     "output_type": "display_data"
    }
   ],
   "source": [
    "#plot the errors\n",
    "plt.plot(errors[:,0],errors[:,1])\n",
    "plt.ylabel('error')\n",
    "plt.xlabel('ith epsiode')\n",
    "plt.xticks(np.arange(0, 1000000, step=100000))\n",
    "plt.ticklabel_format(style='sci', axis='x', scilimits=(0,0))\n",
    "plt.gca().ticklabel_format(useMathText=True)\n",
    "plt.ylim(0,0.5)\n",
    "plt.show()"
   ]
  }
 ],
 "metadata": {
  "kernelspec": {
   "display_name": "Python 3",
   "language": "python",
   "name": "python3"
  },
  "language_info": {
   "codemirror_mode": {
    "name": "ipython",
    "version": 3
   },
   "file_extension": ".py",
   "mimetype": "text/x-python",
   "name": "python",
   "nbconvert_exporter": "python",
   "pygments_lexer": "ipython3",
   "version": "3.8.5"
  },
  "toc": {
   "base_numbering": 1,
   "nav_menu": {},
   "number_sections": true,
   "sideBar": true,
   "skip_h1_title": false,
   "title_cell": "Table of Contents",
   "title_sidebar": "Contents",
   "toc_cell": false,
   "toc_position": {},
   "toc_section_display": true,
   "toc_window_display": false
  }
 },
 "nbformat": 4,
 "nbformat_minor": 4
}
