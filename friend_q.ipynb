{
 "cells": [
  {
   "cell_type": "code",
   "execution_count": 139,
   "metadata": {},
   "outputs": [],
   "source": [
    "import numpy as np\n",
    "import pandas as pd\n",
    "import matplotlib.pyplot as plt\n",
    "import gym\n",
    "import torch\n",
    "import random\n",
    "\n",
    "from collections import namedtuple\n",
    "from itertools import count\n",
    "from PIL import Image\n",
    "\n",
    "import torch\n",
    "import torch.nn as nn\n",
    "import torch.optim as optim\n",
    "import torch.nn.functional as F\n",
    "import torchvision.transforms as T\n",
    "from torch.utils.data import TensorDataset\n",
    "import copy\n",
    "import gym_minigrid\n",
    "from soccer_env import soccer"
   ]
  },
  {
   "cell_type": "markdown",
   "metadata": {},
   "source": [
    "# Friend-Q"
   ]
  },
  {
   "cell_type": "code",
   "execution_count": null,
   "metadata": {
    "scrolled": true
   },
   "outputs": [],
   "source": [
    "env = soccer()\n",
    "n_steps = 1000000\n",
    "step = 0\n",
    "epsilon = 0.7\n",
    "gamma = 0.9\n",
    "q = np.zeros((8,8,2,len(env.action_space()),len(env.action_space())))\n",
    "errors2 = np.empty(shape=[0, 2])\n",
    "alpha = 1\n",
    "alpha_decay_rate = 0.9999999\n",
    "epsilon_decay_rate = 1\n",
    "done = False\n",
    "a_loc,b_loc,has_ball = env.reset()\n",
    "for _ in range(n_steps):\n",
    "    step+=1\n",
    "    if(step%1000 == 0):print('step:', step)\n",
    "    #loop for each step \n",
    "    if(done): \n",
    "        a_loc,b_loc,has_ball = env.reset()\n",
    "        done = False\n",
    "    rand = np.random.random()\n",
    "    #Choose actions randomly \n",
    "    if  rand < epsilon:\n",
    "        a_a = env.sample_action()\n",
    "        a_b = env.sample_action()\n",
    "    if rand >= epsilon:\n",
    "        a = q[a_loc,b_loc,has_ball]\n",
    "        a_a,a_b = np.unravel_index(np.argmax(a, axis=None), a.shape)\n",
    "    #a_a, a_b = np.random.choice(env.action_space(),2,replace = True)\n",
    "    #env.render()\n",
    "    #print('a_action',a_a)\n",
    "#     if a_loc == 2 and b_loc == 1 and has_ball == 1 and a_a == 1 and a_b == 4: \n",
    "#         env.render()\n",
    "    #take action a, observe R,S'\n",
    "    a_loc_next, b_loc_next,has_ball_next,a_reward,b_reward,done = env.step(a_a,a_b)\n",
    "    # if st is a terminal state, then V(St) should always be 0\n",
    "    #update Q\n",
    "    if done:\n",
    "        v = 0\n",
    "    else:\n",
    "        v = np.max(q[a_loc_next,b_loc_next,has_ball_next,:,:])\n",
    "    q_update = alpha*((1-gamma)*(a_reward)+gamma*v)\n",
    "    new_q = (1-alpha)*q[a_loc,b_loc,has_ball,a_a,a_b]+q_update\n",
    "    #document error when in state s and A taking action S and b sticking\n",
    "    if a_loc == 2 and b_loc == 1 and has_ball == 1 and a_a == 1 and a_b == 4: \n",
    "        error = abs(new_q-q[2,1,1,1,4])\n",
    "        errors2 = np.append(errors2,np.array([[step-1,error]]),axis=0)\n",
    "    q[a_loc,b_loc,has_ball,a_a,a_b] = new_q\n",
    "    #update states\n",
    "    a_loc = a_loc_next\n",
    "    b_loc = b_loc_next\n",
    "    has_ball = has_ball_next\n",
    "    #epsilon decay\n",
    "    epsilon = epsilon*epsilon_decay_rate\n",
    "    alpha = alpha*alpha_decay_rate"
   ]
  },
  {
   "cell_type": "code",
   "execution_count": 213,
   "metadata": {
    "scrolled": true
   },
   "outputs": [
    {
     "data": {
      "image/png": "[encoded data removed]",
      "text/plain": [
       "<Figure size 432x288 with 1 Axes>"
      ]
     },
     "metadata": {
      "needs_background": "light"
     },
     "output_type": "display_data"
    }
   ],
   "source": [
    "#plot the errors\n",
    "plt.plot(errors2[:,0],errors2[:,1])\n",
    "plt.ylabel('error')\n",
    "plt.xlabel('ith epsiode')\n",
    "plt.ylim(0,0.5)\n",
    "plt.xticks(np.arange(0, 1000000, step=100000))\n",
    "#plt.xticks(np.arange(min(errors2[:,0]), max(errors2[:,0])+1, 100000))\n",
    "plt.ticklabel_format(style='sci', axis='x', scilimits=(0,0))\n",
    "plt.gca().ticklabel_format(useMathText=True)\n",
    "plt.show()"
   ]
  }
 ],
 "metadata": {
  "kernelspec": {
   "display_name": "Python 3",
   "language": "python",
   "name": "python3"
  },
  "language_info": {
   "codemirror_mode": {
    "name": "ipython",
    "version": 3
   },
   "file_extension": ".py",
   "mimetype": "text/x-python",
   "name": "python",
   "nbconvert_exporter": "python",
   "pygments_lexer": "ipython3",
   "version": "3.8.5"
  },
  "toc": {
   "base_numbering": 1,
   "nav_menu": {},
   "number_sections": true,
   "sideBar": true,
   "skip_h1_title": false,
   "title_cell": "Table of Contents",
   "title_sidebar": "Contents",
   "toc_cell": false,
   "toc_position": {},
   "toc_section_display": true,
   "toc_window_display": false
  }
 },
 "nbformat": 4,
 "nbformat_minor": 4
}
