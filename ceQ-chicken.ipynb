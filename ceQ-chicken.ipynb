{
 "cells": [
  {
   "cell_type": "code",
   "execution_count": 1,
   "metadata": {},
   "outputs": [],
   "source": [
    "import numpy as np\n",
    "import pandas as pd\n",
    "import matplotlib.pyplot as plt\n",
    "import gym\n",
    "import torch\n",
    "import random\n",
    "\n",
    "from collections import namedtuple\n",
    "from itertools import count\n",
    "from PIL import Image\n",
    "\n",
    "import torch\n",
    "import torch.nn as nn\n",
    "import torch.optim as optim\n",
    "import torch.nn.functional as F\n",
    "import torchvision.transforms as T\n",
    "from torch.utils.data import TensorDataset\n",
    "import copy\n",
    "import gym_minigrid\n",
    "from soccer_env import soccer\n",
    "import cvxpy as cp"
   ]
  },
  {
   "cell_type": "code",
   "execution_count": 7,
   "metadata": {},
   "outputs": [
    {
     "name": "stdout",
     "output_type": "stream",
     "text": [
      "var194[0, 0:2] @ [[ 0. -1.]\n",
      " [ 0.  2.]]\n",
      "var194[1, 0:2] @ [[ 1.  0.]\n",
      " [-2.  0.]]\n",
      "[[0.]\n",
      " [0.]]\n",
      "[[ 0. -1.]\n",
      " [ 0.  2.]]\n",
      "var194.T[0, 0:2] @ [[ 0. -1.]\n",
      " [ 0.  2.]]\n",
      "[[ 1.]\n",
      " [-2.]]\n",
      "[[ 1.  0.]\n",
      " [-2.  0.]]\n",
      "var194.T[1, 0:2] @ [[ 1.  0.]\n",
      " [-2.  0.]]\n",
      "p [[ 5.00000000e-01  2.50000000e-01]\n",
      " [ 2.50000000e-01 -2.30952415e-10]]\n",
      "10.500000003126665\n"
     ]
    }
   ],
   "source": [
    "#chicken game\n",
    "r_a = np.array([[6,2],[7,0]])\n",
    "r_b = np.array([[6,7],[2,0]])\n",
    "r_b = r_b.T\n",
    "n = r_a.shape[0]\n",
    "constraints = []\n",
    "#print(r)\n",
    "# row player is A column player is B\n",
    "pa = cp.Variable((n,n)) \n",
    "constraints = []\n",
    "#constraints regarding equilibrium\n",
    "for a in range(n):\n",
    "    q_diff = np.empty([n,0])\n",
    "    for i in range(n):\n",
    "        q_diff = np.append(q_diff,np.array([r_a[a,:]-r_a[i,:]]).T,axis = 1)\n",
    "        #print(q_diff)\n",
    "    lhs = pa[a,:]@q_diff\n",
    "    print(lhs)\n",
    "    constraints = constraints + [lhs>=np.zeros(n)]\n",
    "\n",
    "pb = pa.T\n",
    "for b in range(n):\n",
    "    q_diff = np.empty([n,0])\n",
    "    for i in range(n):\n",
    "        q_diff = np.append(q_diff,np.array([r_b[b,:]-r_b[i,:]]).T,axis = 1)\n",
    "        print(q_diff)\n",
    "    lhs = pb[b,:]@q_diff\n",
    "    print(lhs)\n",
    "    constraints = constraints + [lhs>=np.zeros(n)]\n",
    "#constraints around pa itself\n",
    "#np.full([5,5],0.000000000000001)\n",
    "constraints = constraints + [pa>= 0]\n",
    "constraints = constraints + [cp.sum(pa) == 1]\n",
    "#constraints: CEQ has 5*4*2 + 25 + 1 constraints and one objective. maximize(p*(q1 + q2))\n",
    "# utilitarian ce q objective: maximize combined expected values\n",
    "objective = cp.Maximize(cp.sum(cp.multiply(pa,r_a)+cp.multiply(pb,r_b)))\n",
    "problem = cp.Problem(objective,constraints)\n",
    "#solver='ECOS_BB'\n",
    "result = problem.solve()\n",
    "p = pa.value\n",
    "print('p',p)\n",
    "v_a =  np.multiply(p,r_a)\n",
    "v_b = np.multiply(p.T,r_b)  \n",
    "print(result)"
   ]
  }
 ],
 "metadata": {
  "kernelspec": {
   "display_name": "Python 3",
   "language": "python",
   "name": "python3"
  },
  "language_info": {
   "codemirror_mode": {
    "name": "ipython",
    "version": 3
   },
   "file_extension": ".py",
   "mimetype": "text/x-python",
   "name": "python",
   "nbconvert_exporter": "python",
   "pygments_lexer": "ipython3",
   "version": "3.8.5"
  },
  "toc": {
   "base_numbering": 1,
   "nav_menu": {},
   "number_sections": true,
   "sideBar": true,
   "skip_h1_title": false,
   "title_cell": "Table of Contents",
   "title_sidebar": "Contents",
   "toc_cell": false,
   "toc_position": {},
   "toc_section_display": true,
   "toc_window_display": false
  }
 },
 "nbformat": 4,
 "nbformat_minor": 4
}
